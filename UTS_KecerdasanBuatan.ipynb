{
  "nbformat": 4,
  "nbformat_minor": 0,
  "metadata": {
    "colab": {
      "provenance": [],
      "authorship_tag": "ABX9TyPXaW+t1+izedEYEIy4fZXw",
      "include_colab_link": true
    },
    "kernelspec": {
      "name": "python3",
      "display_name": "Python 3"
    },
    "language_info": {
      "name": "python"
    }
  },
  "cells": [
    {
      "cell_type": "markdown",
      "metadata": {
        "id": "view-in-github",
        "colab_type": "text"
      },
      "source": [
        "<a href=\"https://colab.research.google.com/github/hafizhalfarizi28/UTS-KecerdasaBuatan/blob/main/UTS_KecerdasanBuatan.ipynb\" target=\"_parent\"><img src=\"https://colab.research.google.com/assets/colab-badge.svg\" alt=\"Open In Colab\"/></a>"
      ]
    },
    {
      "cell_type": "code",
      "execution_count": 4,
      "metadata": {
        "colab": {
          "base_uri": "https://localhost:8080/"
        },
        "id": "eFP6lKQ1WXcn",
        "outputId": "a87b28d7-6525-4315-fb8e-b1e68737984a"
      },
      "outputs": [
        {
          "output_type": "stream",
          "name": "stdout",
          "text": [
            "Masukkan kondisi tanaman (jawab dengan 'ya' atau 'tidak'):\n",
            "Apakah daun menguning? (ya/tidak): tidak\n",
            "Apakah terdapat bercak hitam? (ya/tidak): ttidak\n",
            "Apakah daun berlubang? (ya/tidak): tidak\n",
            "Apakah tanaman layu? (ya/tidak): ya\n",
            "\n",
            "Hasil identifikasi:\n",
            "Hama: Kutu Daun\n"
          ]
        }
      ],
      "source": [
        "# --- Sistem Pakar: Identifikasi Hama Tanaman ---\n",
        "\n",
        "# Fungsi untuk mengidentifikasi hama berdasarkan gejala\n",
        "def identifikasi_hama(daun_menguning, bercak_hitam, daun_berlubang, tanaman_layu):\n",
        "    if tanaman_layu:\n",
        "        return \"Hama: Nematoda akar\"\n",
        "    elif daun_berlubang:\n",
        "        return \"Hama: Ulat Grayak (Spodoptera litura)\"\n",
        "    elif bercak_hitam:\n",
        "        return \"Hama: Infeksi jamur atau bakteri (Cercospora atau Xanthomonas)\"\n",
        "    elif daun_menguning:\n",
        "        return \"Hama: Kutu daun (aphids)\"\n",
        "    else:\n",
        "        return \"Hama: Tidak diketahui\"\n",
        "\n",
        "# --- Interface sederhana untuk input dari user ---\n",
        "print(\"Masukkan kondisi tanaman (jawab dengan 'ya' atau 'tidak'):\")\n",
        "\n",
        "daun_menguning = input(\"Apakah daun menguning? (ya/tidak): \").lower() == 'ya'\n",
        "bercak_hitam = input(\"Apakah terdapat bercak hitam? (ya/tidak): \").lower() == 'ya'\n",
        "daun_berlubang = input(\"Apakah daun berlubang? (ya/tidak): \").lower() == 'ya'\n",
        "tanaman_layu = input(\"Apakah tanaman layu? (ya/tidak): \").lower() == 'ya'\n",
        "\n",
        "# --- Pemanggilan fungsi ---\n",
        "hasil = identifikasi_hama(daun_menguning, bercak_hitam, daun_berlubang, tanaman_layu)\n",
        "\n",
        "# --- Output hasil inferensi ---\n",
        "print(\"\\nHasil identifikasi:\")\n",
        "print(hasil)\n"
      ]
    },
    {
      "cell_type": "markdown",
      "source": [
        "PENJELASAN:\n",
        "1. saya membuat sebuah fungsi yaitu identifikasi_hama yang berisikan 4 parameter yaitu (daun_menguning, bercak_hitam, daun_berlubang, tanaman_layu). setiap parameter bersifat boolean (TRUE/FALSE).\n",
        "2. setelah itu membuat aturan fungsi dalam fungsinya(IF/ELIF/ELSE).\n",
        "3. kemudian membuat sebuah interface untuk memberikan cara menjawab kepada user.\n",
        "4. input -> untuk mengambil jawaban dari si user.\n",
        "lower -> untuk membenarkan jawaban user (YA,Ya,ya) semuanya akan di baca menjadi == ya.\n",
        "5. kemudian untuk hasil=identifikasi_hama memanggil fungsi identifikasi_hama untuk menentukan hama apa nanti hasilnya akan disimpan dalam variable hasil.\n",
        "7. print(hasil) fungsi ini akan menampilkan jawabannya ke layar."
      ],
      "metadata": {
        "id": "FnBsiLD3cpzk"
      }
    }
  ]
}